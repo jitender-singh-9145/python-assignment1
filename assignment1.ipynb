{
  "metadata": {
    "kernelspec": {
      "name": "xpython",
      "display_name": "Python 3.13 (XPython)",
      "language": "python"
    },
    "language_info": {
      "file_extension": ".py",
      "mimetype": "text/x-python",
      "name": "python",
      "version": "3.13.1"
    }
  },
  "nbformat_minor": 5,
  "nbformat": 4,
  "cells": [
    {
      "id": "e4912224-aa87-4010-9e98-0eebd934a9a4",
      "cell_type": "code",
      "source": " ans1 *\n       -\n       /\n       +\n       ",
      "metadata": {
        "trusted": true
      },
      "outputs": [],
      "execution_count": null
    },
    {
      "id": "396f242f-c4d7-4b03-b6e6-2819bde37126",
      "cell_type": "code",
      "source": "ans2  \n String:string is a sequence of characters.\n Variable: variable is a name which is  use for store data.",
      "metadata": {
        "trusted": true
      },
      "outputs": [],
      "execution_count": null
    },
    {
      "id": "e66e627d-1a7c-4408-bb8d-3638d0c9a013",
      "cell_type": "code",
      "source": "ans3\nstring:string is a sequence of character.\n    ex=\"hello\"\nFloat:float is use to store decimal number.\n    ex=7.79\ninteger:integer is use to store whole number.\n    ex=5,6\n",
      "metadata": {
        "trusted": true
      },
      "outputs": [],
      "execution_count": null
    },
    {
      "id": "127289a9-7add-4d3f-9f96-93273e34e0c6",
      "cell_type": "code",
      "source": "ans4\nexpression is made up of Values, variables, operators, functions.All expressions in Python evaluate value and \nreturn.",
      "metadata": {
        "trusted": true
      },
      "outputs": [],
      "execution_count": null
    },
    {
      "id": "0e3e4ed8-5f05-41cb-8dc6-0003ff79fca5",
      "cell_type": "code",
      "source": "ans5\nThis is a Python assignment statement.\nexpression:A combination of values, variables, and operators that evaluates to a value\nstatement:statement is performs an action.\n    ex=if,else,while",
      "metadata": {
        "trusted": true
      },
      "outputs": [],
      "execution_count": null
    },
    {
      "id": "6e60c2e3-291e-4b1f-a428-e9c1bddaf3f9",
      "cell_type": "code",
      "source": "ans6\n23",
      "metadata": {
        "trusted": true
      },
      "outputs": [],
      "execution_count": null
    },
    {
      "id": "f1255873-e656-40d6-9e68-6a3d66da3c4d",
      "cell_type": "code",
      "source": "ans7\n'spam' +'spamspam'= spamspamsapmspam\n'spam'*3= spamspamspam",
      "metadata": {
        "trusted": true
      },
      "outputs": [],
      "execution_count": null
    },
    {
      "id": "2dfaad90-9ffc-4cc5-bc45-5e5f817bd722",
      "cell_type": "code",
      "source": "ans8\nBecause egg is a caontain character and  variable doesn't contain whole number 100 is a integer ",
      "metadata": {
        "trusted": true
      },
      "outputs": [],
      "execution_count": null
    },
    {
      "id": "67da8dca-9f11-4e26-aaed-bddcd57d64a9",
      "cell_type": "code",
      "source": "ans9\nint=Converts a value to an integer (whole number)\nex=1,2,3\nfloat=Converts a value to a decimal number\nex=7.35\nstr=Converts a value to a string\nex=str(123)",
      "metadata": {
        "trusted": true
      },
      "outputs": [],
      "execution_count": null
    },
    {
      "id": "82a461a5-3eb4-4385-a0e9-9117254edb81",
      "cell_type": "code",
      "source": "ans10\nwe can only add  strings with other strings, not with numbers directly.",
      "metadata": {
        "trusted": true
      },
      "outputs": [],
      "execution_count": null
    }
  ]
}